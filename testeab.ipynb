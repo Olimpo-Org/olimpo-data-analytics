{
 "cells": [
  {
   "cell_type": "markdown",
   "metadata": {},
   "source": [
    "# <center> 🏙️ Olimpo 🏙️ </center>\n",
    "### <center> Teste A/B </center>\n",
    "\n",
    "##### <center> Sofia Elisabete Rosa Domingues - 2°G</center>"
   ]
  },
  {
   "cell_type": "markdown",
   "metadata": {},
   "source": [
    "## 0. Configurações e Variáveis"
   ]
  },
  {
   "cell_type": "markdown",
   "metadata": {},
   "source": [
    "### 0.1. Importações"
   ]
  },
  {
   "cell_type": "code",
   "execution_count": 33,
   "metadata": {},
   "outputs": [],
   "source": [
    "import pandas as pd\n",
    "import matplotlib.pyplot as plt\n",
    "import numpy as np\n",
    "import seaborn as sns\n",
    "from scipy.stats import norm\n",
    "from scipy import stats"
   ]
  },
  {
   "cell_type": "markdown",
   "metadata": {},
   "source": [
    "### 0.2. Variáveis"
   ]
  },
  {
   "cell_type": "code",
   "execution_count": 34,
   "metadata": {},
   "outputs": [],
   "source": [
    "# Leitura do teste A armazenado no excel\n",
    "teste_a = pd.read_excel('./Excel/Teste AB.xlsx', sheet_name='Teste A').drop(columns='Num')\n",
    "\n",
    "# Leitura do teste B armazenado no excel em uma planilha diferente\n",
    "teste_b = pd.read_excel('./Excel/Teste AB.xlsx', sheet_name='Teste B').drop(columns='Num')"
   ]
  },
  {
   "cell_type": "code",
   "execution_count": 35,
   "metadata": {},
   "outputs": [],
   "source": [
    "# Concatenando os dataframes para facilitar a plotagem\n",
    "teste_a['grupo'] = 'A'\n",
    "teste_b['grupo'] = 'B'\n",
    "dois = pd.concat([teste_a, teste_b])"
   ]
  },
  {
   "cell_type": "code",
   "execution_count": 1,
   "metadata": {},
   "outputs": [],
   "source": [
    "# Definição do nivel de significancia que eu quero no meu teste \n",
    "\n",
    "significancia = 0.05"
   ]
  },
  {
   "cell_type": "markdown",
   "metadata": {},
   "source": [
    "## 1. Teste"
   ]
  },
  {
   "cell_type": "markdown",
   "metadata": {},
   "source": [
    "#### Explicação do teste\n",
    "\n",
    "O teste visava entender se um cliente levava menos tempo para concluir a criação de um anúncio com a interface B, que adiciona um botão na área de anúncios, o que originalmente era na mesma parte de criar publicação.\n",
    "\n",
    "As fotos dos testes A e B estão localizados na pasta de images, mas você também pode encontrar ele por este [link](https://www.figma.com/design/ZdSnfgolmDO7BavsFSGmaV/Olimpo---Design?node-id=273-3361&t=i0YeSBahVthUkHIi-1)!"
   ]
  },
  {
   "cell_type": "markdown",
   "metadata": {},
   "source": [
    "#### Definição das hipóteses:\n",
    "H0: média de b >= média de a\n",
    "\n",
    "H1: média de b < média de a"
   ]
  },
  {
   "cell_type": "markdown",
   "metadata": {},
   "source": [
    "### Boxplot para verificar outliers\n",
    "\n",
    "Como é possível ver abaixo, não existem outliers nos testes! ( :>>> )"
   ]
  },
  {
   "cell_type": "code",
   "execution_count": 37,
   "metadata": {},
   "outputs": [
    {
     "data": {
      "image/png": "[encoded data removed]",
      "text/plain": [
       "<Figure size 1000x600 with 1 Axes>"
      ]
     },
     "metadata": {},
     "output_type": "display_data"
    }
   ],
   "source": [
    "plt.figure(figsize=(10, 6))\n",
    "sns.boxplot(x='grupo', y='Tempo', data=dois, palette=\"rainbow\")\n",
    "plt.title('Distribuição do Tempo por Interface')\n",
    "plt.xlabel('Interface')\n",
    "plt.ylabel('Tempo')\n",
    "plt.grid(axis='y')"
   ]
  },
  {
   "cell_type": "markdown",
   "metadata": {},
   "source": [
    "### Enfim, o teste <3"
   ]
  },
  {
   "cell_type": "code",
   "execution_count": 38,
   "metadata": {},
   "outputs": [
    {
     "name": "stdout",
     "output_type": "stream",
     "text": [
      "Valor p: 0.00945926450301454\n",
      "A diferença é estatisticamente significativa. Podemos rejeitar a hipótese nula.\n"
     ]
    }
   ],
   "source": [
    "# Realizar o teste t\n",
    "t_stat, p_valor = stats.ttest_ind(teste_a['Tempo'], teste_b['Tempo'], alternative=\"less\")\n",
    "\n",
    "print(f'Valor p: {p_valor}')\n",
    "\n",
    "if p_valor < significancia:\n",
    "    print(\"A diferença é estatisticamente significativa. Podemos rejeitar a hipótese nula.\")\n",
    "else:\n",
    "    print(\"A diferença não é estatisticamente significativa. Não podemos rejeitar a hipótese nula.\")"
   ]
  },
  {
   "cell_type": "markdown",
   "metadata": {},
   "source": [
    "## 2. Conclusão"
   ]
  },
  {
   "cell_type": "markdown",
   "metadata": {},
   "source": [
    "Os resultados deste teste A/B entre as interfaces A e B indicam que a diferença observada nos tempos médios de uso é estatisticamente significativa ao nível de confiança de 95%. \n",
    "\n",
    "Com um valor-p de aproximadamente 0.0094, inferior ao nível de significância de 0,05, temos evidências suficientes para rejeitar a hipótese nula (H0), que dizia que a interface B é, no mínimo, tão rápida quanto a interface A e isso significa que os dados coletados por meio de testes do prototipo do Olimpo apontam para a interface B sendo estatisticamente mais lenta que a interface A no tempo de criação do anúncio.\n",
    "\n",
    "Dado o objetivo de otimizar o tempo de resposta da interface, a implementação da interface B não seria recomendada para o aplicativo. A interface A, com melhor desempenho de tempo, deve ser mantida para oferecer uma experiência de usuário mais eficiente.\n",
    "\n",
    "Concluímos que a interface A continua sendo a melhor escolha em termos de desempenho de tempo."
   ]
  }
 ],
 "metadata": {
  "kernelspec": {
   "display_name": "Python 3",
   "language": "python",
   "name": "python3"
  },
  "language_info": {
   "codemirror_mode": {
    "name": "ipython",
    "version": 3
   },
   "file_extension": ".py",
   "mimetype": "text/x-python",
   "name": "python",
   "nbconvert_exporter": "python",
   "pygments_lexer": "ipython3",
   "version": "3.11.2"
  }
 },
 "nbformat": 4,
 "nbformat_minor": 2
}
